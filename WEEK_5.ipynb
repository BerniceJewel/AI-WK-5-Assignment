{
  "nbformat": 4,
  "nbformat_minor": 0,
  "metadata": {
    "colab": {
      "provenance": []
    },
    "kernelspec": {
      "name": "python3",
      "display_name": "Python 3"
    },
    "language_info": {
      "name": "python"
    }
  },
  "cells": [
    {
      "cell_type": "code",
      "source": [
        "# preprocess.py\n",
        "# Preprocessing hospital data for predicting patient readmissions\n",
        "\n",
        "import pandas as pd\n",
        "import numpy as np\n",
        "from sklearn.preprocessing import StandardScaler\n",
        "\n",
        "# Step 1: Generate synthetic dataset (EHR-like)\n",
        "np.random.seed(42)  # For reproducibility\n",
        "\n",
        "data = {\n",
        "    'patient_id': range(1000),\n",
        "    'age': np.random.randint(18, 90, 1000),\n",
        "    'has_chronic_condition': np.random.choice([0, 1], 1000, p=[0.7, 0.3]),\n",
        "    'days_since_last_admission': np.random.randint(1, 365, 1000),\n",
        "    'blood_pressure': np.random.normal(120, 15, 1000),\n",
        "    'diagnosis_code': np.random.choice(['A01', 'B02', 'C03'], 1000),\n",
        "    'readmitted': np.random.choice([0, 1], 1000, p=[0.8, 0.2])  # 80% no, 20% yes\n",
        "}\n",
        "\n",
        "df = pd.DataFrame(data)\n",
        "\n",
        "# Step 2: Remove duplicate patients (based on patient_id)\n",
        "df = df.drop_duplicates(subset='patient_id')\n",
        "print(f\"After removing duplicates, we have {len(df)} records.\")\n",
        "\n",
        "# Step 3: Introduce missing values in blood pressure\n",
        "missing_indices = np.random.choice(df.index, 50, replace=False)\n",
        "df.loc[missing_indices, 'blood_pressure'] = np.nan\n",
        "\n",
        "# Fill missing blood pressure with column mean (safe baseline imputation)\n",
        "df.loc[:, 'blood_pressure'] = df['blood_pressure'].fillna(df['blood_pressure'].mean())\n",
        "print(\"Missing blood pressure values filled with mean.\")\n",
        "\n",
        "# Step 4: Feature engineering\n",
        "# Add binary indicator for senior patients (65+)\n",
        "df['is_senior'] = (df['age'] >= 65).astype(int)\n",
        "print(\"Added 'is_senior' feature.\")\n",
        "\n",
        "# Step 5: One-hot encode diagnosis_code\n",
        "df = pd.get_dummies(df, columns=['diagnosis_code'], prefix='diag')\n",
        "print(\"Diagnosis codes encoded using one-hot encoding.\")\n",
        "\n",
        "# Step 6: Normalize numeric features using StandardScaler\n",
        "scaler = StandardScaler()\n",
        "numeric_cols = ['age', 'blood_pressure', 'days_since_last_admission']\n",
        "df[numeric_cols] = scaler.fit_transform(df[numeric_cols])\n",
        "print(\"Normalized numerical features with StandardScaler.\")\n",
        "\n",
        "# Step 7: Save cleaned data for modeling\n",
        "df.to_csv('preprocessed_data.csv', index=False)\n",
        "print(\"Preprocessed data saved to 'preprocessed_data.csv'.\")\n"
      ],
      "metadata": {
        "colab": {
          "base_uri": "https://localhost:8080/"
        },
        "id": "Hd3EpYGS675z",
        "outputId": "3286ab29-3b34-4d98-a8d9-64a261f89501"
      },
      "execution_count": 7,
      "outputs": [
        {
          "output_type": "stream",
          "name": "stdout",
          "text": [
            "After removing duplicates, we have 1000 records.\n",
            "Missing blood pressure values filled with mean.\n",
            "Added 'is_senior' feature.\n",
            "Diagnosis codes encoded using one-hot encoding.\n",
            "Normalized numerical features with StandardScaler.\n",
            "Preprocessed data saved to 'preprocessed_data.csv'.\n"
          ]
        }
      ]
    },
    {
      "cell_type": "code",
      "source": [
        "# model.py\n",
        "# Train a model to predict patient readmissions using logistic regression\n",
        "# Adjusted for class imbalance and includes performance evaluation\n",
        "\n",
        "import pandas as pd\n",
        "from sklearn.model_selection import train_test_split, GridSearchCV\n",
        "from sklearn.linear_model import LogisticRegression\n",
        "from sklearn.metrics import classification_report, confusion_matrix\n",
        "import pickle\n",
        "\n",
        "# Step 1: Load the preprocessed data\n",
        "df = pd.read_csv('preprocessed_data.csv')\n",
        "\n",
        "# Step 2: Define features (X) and target (y)\n",
        "X = df.drop(columns=['patient_id', 'readmitted'])\n",
        "y = df['readmitted']\n",
        "\n",
        "# Step 3: Split data into train, validation, and test sets (70/15/15) with stratification\n",
        "X_train, X_temp, y_train, y_temp = train_test_split(\n",
        "    X, y, test_size=0.3, stratify=y, random_state=42\n",
        ")\n",
        "X_val, X_test, y_val, y_test = train_test_split(\n",
        "    X_temp, y_temp, test_size=0.5, stratify=y_temp, random_state=42\n",
        ")\n",
        "\n",
        "print(f\"Training set: {len(X_train)} samples, Validation: {len(X_val)}, Test: {len(X_test)}\")\n",
        "\n",
        "# Step 4: Define logistic regression model with class balancing\n",
        "model = LogisticRegression(penalty='l2', class_weight='balanced', random_state=42, max_iter=1000)\n",
        "\n",
        "# Step 5: Hyperparameter tuning using GridSearchCV on 'C' (inverse of regularization strength)\n",
        "param_grid = {'C': [0.01, 0.1, 1, 10, 100]}\n",
        "grid_search = GridSearchCV(model, param_grid, cv=5, scoring='f1', n_jobs=-1)\n",
        "grid_search.fit(X_train, y_train)\n",
        "\n",
        "# Step 6: Best model from grid search\n",
        "best_model = grid_search.best_estimator_\n",
        "print(f\"Best hyperparameter C: {grid_search.best_params_['C']}\")\n",
        "print(f\"Best cross-validated F1-Score: {grid_search.best_score_:.3f}\")\n",
        "\n",
        "# Step 7: Evaluate on validation set\n",
        "y_val_pred = best_model.predict(X_val)\n",
        "print(\"\\nValidation Set Evaluation:\")\n",
        "print(confusion_matrix(y_val, y_val_pred))\n",
        "print(classification_report(y_val, y_val_pred, digits=3))\n",
        "\n",
        "# Step 8: Save the trained model\n",
        "with open('readmission_model.pkl', 'wb') as f:\n",
        "    pickle.dump(best_model, f)\n",
        "\n",
        "print(\"Trained model saved as 'readmission_model.pkl'.\")\n"
      ],
      "metadata": {
        "colab": {
          "base_uri": "https://localhost:8080/"
        },
        "id": "SMukD6QfnlKI",
        "outputId": "4fd86f84-6e27-40eb-b106-eb3baad51688"
      },
      "execution_count": 8,
      "outputs": [
        {
          "output_type": "stream",
          "name": "stdout",
          "text": [
            "Training set: 700 samples, Validation: 150, Test: 150\n",
            "Best hyperparameter C: 1\n",
            "Best cross-validated F1-Score: 0.311\n",
            "\n",
            "Validation Set Evaluation:\n",
            "[[67 54]\n",
            " [11 18]]\n",
            "              precision    recall  f1-score   support\n",
            "\n",
            "           0      0.859     0.554     0.673       121\n",
            "           1      0.250     0.621     0.356        29\n",
            "\n",
            "    accuracy                          0.567       150\n",
            "   macro avg      0.554     0.587     0.515       150\n",
            "weighted avg      0.741     0.567     0.612       150\n",
            "\n",
            "Trained model saved as 'readmission_model.pkl'.\n"
          ]
        }
      ]
    },
    {
      "cell_type": "code",
      "source": [
        "# evaluate.py\n",
        "# Evaluate the trained readmission model on the test set\n",
        "\n",
        "import pandas as pd\n",
        "import pickle\n",
        "from sklearn.metrics import (\n",
        "    confusion_matrix, precision_score, recall_score,\n",
        "    f1_score, roc_auc_score, classification_report\n",
        ")\n",
        "import seaborn as sns\n",
        "import matplotlib.pyplot as plt\n",
        "import numpy as np\n",
        "from sklearn.model_selection import train_test_split\n",
        "\n",
        "# Load preprocessed dataset\n",
        "df = pd.read_csv('preprocessed_data.csv')\n",
        "\n",
        "# Define features and labels\n",
        "X = df.drop(columns=['patient_id', 'readmitted'])\n",
        "y = df['readmitted']\n",
        "\n",
        "# Match exact split as model.py — get test set (15%)\n",
        "_, X_temp, _, y_temp = train_test_split(\n",
        "    X, y, test_size=0.3, stratify=y, random_state=42\n",
        ")\n",
        "X_test, _, y_test, _ = train_test_split(\n",
        "    X_temp, y_temp, test_size=0.5, stratify=y_temp, random_state=42\n",
        ")\n",
        "\n",
        "# Load the trained model\n",
        "with open('readmission_model.pkl', 'rb') as f:\n",
        "    model = pickle.load(f)\n",
        "\n",
        "# Make predictions\n",
        "y_pred = model.predict(X_test)\n",
        "\n",
        "# Sanity check — see distribution of predicted classes\n",
        "print(\"Predicted class distribution:\", np.bincount(y_pred))\n",
        "\n",
        "# Calculate evaluation metrics\n",
        "precision = precision_score(y_test, y_pred, zero_division=0)\n",
        "recall = recall_score(y_test, y_pred, zero_division=0)\n",
        "f1 = f1_score(y_test, y_pred, zero_division=0)\n",
        "auc_roc = roc_auc_score(y_test, y_pred)\n",
        "\n",
        "print(f\"\\nF1-Score: {f1:.3f}\")\n",
        "print(f\"AUC-ROC: {auc_roc:.3f}\")\n",
        "print(f\"Precision: {precision:.3f}\")\n",
        "print(f\"Recall: {recall:.3f}\")\n",
        "\n",
        "# Full classification report\n",
        "print(\"\\nClassification Report:\")\n",
        "print(classification_report(y_test, y_pred, digits=3, zero_division=0))\n",
        "\n",
        "# Confusion matrix\n",
        "cm = confusion_matrix(y_test, y_pred)\n",
        "print(\"\\nConfusion Matrix:\")\n",
        "print(cm)\n",
        "\n",
        "# Visualize the confusion matrix\n",
        "sns.heatmap(cm, annot=True, fmt='d', cmap='Blues',\n",
        "            xticklabels=['No Readmission', 'Readmission'],\n",
        "            yticklabels=['No Readmission', 'Readmission'])\n",
        "plt.xlabel('Predicted')\n",
        "plt.ylabel('Actual')\n",
        "plt.title('Confusion Matrix for Readmission Prediction')\n",
        "plt.savefig('confusion_matrix.png')\n",
        "plt.show()\n"
      ],
      "metadata": {
        "colab": {
          "base_uri": "https://localhost:8080/",
          "height": 843
        },
        "id": "dDRClPKKnnaf",
        "outputId": "4bec4b60-5d4d-4363-e03a-7ee1e5f752a5"
      },
      "execution_count": 9,
      "outputs": [
        {
          "output_type": "stream",
          "name": "stdout",
          "text": [
            "Predicted class distribution: [78 72]\n",
            "\n",
            "F1-Score: 0.356\n",
            "AUC-ROC: 0.587\n",
            "Precision: 0.250\n",
            "Recall: 0.621\n",
            "\n",
            "Classification Report:\n",
            "              precision    recall  f1-score   support\n",
            "\n",
            "           0      0.859     0.554     0.673       121\n",
            "           1      0.250     0.621     0.356        29\n",
            "\n",
            "    accuracy                          0.567       150\n",
            "   macro avg      0.554     0.587     0.515       150\n",
            "weighted avg      0.741     0.567     0.612       150\n",
            "\n",
            "\n",
            "Confusion Matrix:\n",
            "[[67 54]\n",
            " [11 18]]\n"
          ]
        },
        {
          "output_type": "display_data",
          "data": {
            "text/plain": [
              "<Figure size 640x480 with 2 Axes>"
            ],
            "image/png": "[encoded data removed]"
          },
          "metadata": {}
        }
      ]
    }
  ]
}